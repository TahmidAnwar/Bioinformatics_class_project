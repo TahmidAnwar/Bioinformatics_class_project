{
  "nbformat": 4,
  "nbformat_minor": 0,
  "metadata": {
    "colab": {
      "provenance": [],
      "include_colab_link": true
    },
    "kernelspec": {
      "name": "python3",
      "display_name": "Python 3"
    },
    "language_info": {
      "name": "python"
    }
  },
  "cells": [
    {
      "cell_type": "markdown",
      "metadata": {
        "id": "view-in-github",
        "colab_type": "text"
      },
      "source": [
        "<a href=\"https://colab.research.google.com/github/TahmidAnwar/Bioinformatics_class_project/blob/main/tau_protein_sequence_alignment.ipynb\" target=\"_parent\"><img src=\"https://colab.research.google.com/assets/colab-badge.svg\" alt=\"Open In Colab\"/></a>"
      ]
    },
    {
      "cell_type": "code",
      "execution_count": null,
      "metadata": {
        "colab": {
          "base_uri": "https://localhost:8080/"
        },
        "id": "togoSOevrG1k",
        "outputId": "e66b4941-00a2-4cb7-9404-4affb3368f22"
      },
      "outputs": [
        {
          "output_type": "stream",
          "name": "stdout",
          "text": [
            "Collecting biopython\n",
            "  Downloading biopython-1.84-cp310-cp310-manylinux_2_17_x86_64.manylinux2014_x86_64.whl.metadata (12 kB)\n",
            "Requirement already satisfied: pandas in /usr/local/lib/python3.10/dist-packages (2.2.2)\n",
            "Requirement already satisfied: numpy in /usr/local/lib/python3.10/dist-packages (from biopython) (1.26.4)\n",
            "Requirement already satisfied: python-dateutil>=2.8.2 in /usr/local/lib/python3.10/dist-packages (from pandas) (2.8.2)\n",
            "Requirement already satisfied: pytz>=2020.1 in /usr/local/lib/python3.10/dist-packages (from pandas) (2024.2)\n",
            "Requirement already satisfied: tzdata>=2022.7 in /usr/local/lib/python3.10/dist-packages (from pandas) (2024.2)\n",
            "Requirement already satisfied: six>=1.5 in /usr/local/lib/python3.10/dist-packages (from python-dateutil>=2.8.2->pandas) (1.16.0)\n",
            "Downloading biopython-1.84-cp310-cp310-manylinux_2_17_x86_64.manylinux2014_x86_64.whl (3.2 MB)\n",
            "\u001b[2K   \u001b[90m━━━━━━━━━━━━━━━━━━━━━━━━━━━━━━━━━━━━━━━━\u001b[0m \u001b[32m3.2/3.2 MB\u001b[0m \u001b[31m20.7 MB/s\u001b[0m eta \u001b[36m0:00:00\u001b[0m\n",
            "\u001b[?25hInstalling collected packages: biopython\n",
            "Successfully installed biopython-1.84\n"
          ]
        }
      ],
      "source": [
        "pip install biopython pandas"
      ]
    },
    {
      "cell_type": "code",
      "source": [
        "from Bio import SeqIO\n",
        "\n",
        "# Load P10636 sequence from a local FASTA file or a direct string\n",
        "file_path = \"P10636-8_tau.fasta\"  # Replace with your downloaded FASTA file\n",
        "record = SeqIO.read(file_path, \"fasta\")\n",
        "\n",
        "# Get the reference sequence\n",
        "reference_seq = str(record.seq)\n",
        "print(f\"Reference Sequence: {reference_seq[:50]}...\")  # Preview first 50 amino acids\n"
      ],
      "metadata": {
        "colab": {
          "base_uri": "https://localhost:8080/"
        },
        "id": "52b0KvnVrpGe",
        "outputId": "39e19760-ed96-4248-a791-38d8b5501411"
      },
      "execution_count": null,
      "outputs": [
        {
          "output_type": "stream",
          "name": "stdout",
          "text": [
            "Reference Sequence: MAEPRQEFEVMEDHAGTYGLGDRKDQGGYTMHQDQEGDTDAGLKESPLQTPTEDGSEEPGSETSDAKSTPTAEDVTAPLVDEGAPGKQAAAQPHTEIPEGTTAEEAGIGDTPSLEDEAAGHVTQARMVSKSKDGTGSDDKKAKGADGKTKIATPRGAAPPGQKGQANATRIPAKTPPAPKTPPSSGEPPKSGDRSGYSSPGSPGTPGSRSRTPSLPTPPTREPKKVAVVRTPPKSPSSAKSRLQTAPVPMPDLKNVKSKIGSTENLKHQPGGGKVQIIN...\n"
          ]
        }
      ]
    },
    {
      "cell_type": "code",
      "source": [
        "# Known Alzheimer's variants\n",
        "alzheimer_variants = [\n",
        "    {\"position\": 279, \"wild_type\": \"N\", \"mutant\": \"K\"},\n",
        "    {\"position\": 301, \"wild_type\": \"P\", \"mutant\": \"L\"},\n",
        "    {\"position\": 406, \"wild_type\": \"R\", \"mutant\": \"W\"}\n",
        "]\n"
      ],
      "metadata": {
        "id": "61TPo8TSsyYm"
      },
      "execution_count": null,
      "outputs": []
    },
    {
      "cell_type": "code",
      "source": [
        "def apply_variants(sequence, variants):\n",
        "    sequence_list = list(sequence)  # Convert sequence to mutable list\n",
        "    for variant in variants:\n",
        "        pos = variant[\"position\"] - 1  # Convert to 0-based index\n",
        "        if sequence_list[pos] == variant[\"wild_type\"]:\n",
        "            sequence_list[pos] = variant[\"mutant\"]\n",
        "        else:\n",
        "            print(f\"Warning: Wild-type mismatch at position {variant['position']}\")\n",
        "    return \"\".join(sequence_list)\n",
        "\n",
        "# Create Alzheimer's variant sequence\n",
        "alzheimer_seq = apply_variants(reference_seq, alzheimer_variants)\n",
        "print(f\"Alzheimer's Tau Variant: {alzheimer_seq[:301]}...\")\n"
      ],
      "metadata": {
        "id": "9-OPrWcOtYgG",
        "colab": {
          "base_uri": "https://localhost:8080/"
        },
        "outputId": "04ae21e9-5738-48f6-bda1-bb8e733e8478"
      },
      "execution_count": null,
      "outputs": [
        {
          "output_type": "stream",
          "name": "stdout",
          "text": [
            "Alzheimer's Tau Variant: MAEPRQEFEVMEDHAGTYGLGDRKDQGGYTMHQDQEGDTDAGLKESPLQTPTEDGSEEPGSETSDAKSTPTAEDVTAPLVDEGAPGKQAAAQPHTEIPEGTTAEEAGIGDTPSLEDEAAGHVTQARMVSKSKDGTGSDDKKAKGADGKTKIATPRGAAPPGQKGQANATRIPAKTPPAPKTPPSSGEPPKSGDRSGYSSPGSPGTPGSRSRTPSLPTPPTREPKKVAVVRTPPKSPSSAKSRLQTAPVPMPDLKNVKSKIGSTENLKHQPGGGKVQIIKKKLDLSNVQSKCGSKDNIKHVL...\n"
          ]
        }
      ]
    },
    {
      "cell_type": "code",
      "source": [
        "# Save to a new FASTA file\n",
        "with open(\"Alzheimers_Tau.fasta\", \"w\") as file:\n",
        "    file.write(f\">Alzheimers_Tau\\n{alzheimer_seq}\")\n",
        "\n",
        "print(\"Alzheimer's tau sequence saved as 'Alzheimers_Tau.fasta'.\")\n"
      ],
      "metadata": {
        "colab": {
          "base_uri": "https://localhost:8080/"
        },
        "id": "gjjfnrs6tceS",
        "outputId": "87a6051a-4cd1-4a69-86b0-328ffed38484"
      },
      "execution_count": null,
      "outputs": [
        {
          "output_type": "stream",
          "name": "stdout",
          "text": [
            "Alzheimer's tau sequence saved as 'Alzheimers_Tau.fasta'.\n"
          ]
        }
      ]
    },
    {
      "cell_type": "code",
      "source": [
        "# Install wget to download Clustal Omega\n",
        "!apt-get install -y wget\n",
        "\n",
        "# Download Clustal Omega\n",
        "!wget http://www.clustal.org/omega/clustalo-1.2.4-Ubuntu-x86_64 -O clustalo\n",
        "\n",
        "# Make it executable\n",
        "!chmod +x clustalo\n"
      ],
      "metadata": {
        "colab": {
          "base_uri": "https://localhost:8080/"
        },
        "id": "fpwZnuPqWhRI",
        "outputId": "c834a3f2-0794-4f87-8ecb-b0cd3ebbc887"
      },
      "execution_count": null,
      "outputs": [
        {
          "output_type": "stream",
          "name": "stdout",
          "text": [
            "Reading package lists... Done\n",
            "Building dependency tree... Done\n",
            "Reading state information... Done\n",
            "wget is already the newest version (1.21.2-2ubuntu1.1).\n",
            "0 upgraded, 0 newly installed, 0 to remove and 49 not upgraded.\n",
            "--2024-11-27 20:40:11--  http://www.clustal.org/omega/clustalo-1.2.4-Ubuntu-x86_64\n",
            "Resolving www.clustal.org (www.clustal.org)... 137.43.93.206\n",
            "Connecting to www.clustal.org (www.clustal.org)|137.43.93.206|:80... connected.\n",
            "HTTP request sent, awaiting response... 200 OK\n",
            "Length: 4921774 (4.7M)\n",
            "Saving to: ‘clustalo’\n",
            "\n",
            "clustalo            100%[===================>]   4.69M  4.64MB/s    in 1.0s    \n",
            "\n",
            "2024-11-27 20:40:13 (4.64 MB/s) - ‘clustalo’ saved [4921774/4921774]\n",
            "\n"
          ]
        }
      ]
    },
    {
      "cell_type": "code",
      "source": [
        "# Create FASTA file for alignment\n",
        "fasta_content = \"\"\">Tau_WildType\n",
        "MAEPRQEFEVMEDHAGTYGLGDRKDQGGYTMHQDQEGDTDAGLKESPLQTPTEDGSEEPG\n",
        "SETSDAKSTPTAEDVTAPLVDEGAPGKQAAAQPHTEIPEGTTAEEAGIGDTPSLEDEAAG\n",
        "HVTQARMVSKSKDGTGSDDKKAKGADGKTKIATPRGAAPPGQKGQANATRIPAKTPPAPK\n",
        "TPPSSGEPPKSGDRSGYSSPGSPGTPGSRSRTPSLPTPPTREPKKVAVVRTPPKSPSSAK\n",
        "SRLQTAPVPMPDLKNVKSKIGSTENLKHQPGGGKVQIINKKLDLSNVQSKCGSKDNIKHV\n",
        "PGGGSVQIVYKPVDLSKVTSKCGSLGNIHHKPGGGQVEVKSEKLDFKDRVQSKIGSLDNI\n",
        "THVPGGGNKKIETHKLTFRENAKAKTDHGAEIVYKSPVVSGDTSPRHLSNVSSTGSIDMV\n",
        "DSPQLATLADEVSASLAKQGL\n",
        "\n",
        ">Tau_AlzheimersVariant\n",
        "MAEPRQEFEVMEDHAGTYGLGDRKDQGGYTMHQDQEGDTDAGLKESPLQTPTEDGSEEPGSETSDAKSTPTAEDVTAPLVDEGAPGKQAAAQPHTEIPEGTTAEEAGIGDTPSLEDEAAGHVTQARMVSKSKDGTGSDDKKAKGADGKTKIATPRGAAPPGQKGQANATRIPAKTPPAPKTPPSSGEPPKSGDRSGYSSPGSPGTPGSRSRTPSLPTPPTREPKKVAVVRTPPKSPSSAKSRLQTAPVPMPDLKNVKSKIGSTENLKHQPGGGKVQIIKKKLDLSNVQSKCGSKDNIKHVLGGGSVQIVYKPVDLSKVTSKCGSLGNIHHKPGGGQVEVKSEKLDFKDRVQSKIGSLDNITHVPGGGNKKIETHKLTFRENAKAKTDHGAEIVYKSPVVSGDTSPWHLSNVSSTGSIDMVDSPQLATLADEVSASLAKQGL\n",
        "\"\"\"\n",
        "\n",
        "# Save FASTA content to a file\n",
        "with open(\"tau_sequences.fasta\", \"w\") as fasta_file:\n",
        "    fasta_file.write(fasta_content)\n"
      ],
      "metadata": {
        "id": "4CQgGVErXZ6b"
      },
      "execution_count": null,
      "outputs": []
    },
    {
      "cell_type": "code",
      "source": [
        "# Perform alignment\n",
        "!./clustalo -i tau_sequences.fasta -o tau_alignment.aln --outfmt=clu\n"
      ],
      "metadata": {
        "id": "6DRkf1iiYQqH"
      },
      "execution_count": null,
      "outputs": []
    },
    {
      "cell_type": "code",
      "source": [
        "# Read and display alignment results\n",
        "with open(\"tau_alignment.aln\", \"r\") as alignment_file:\n",
        "    alignment_results = alignment_file.read()\n",
        "    print(alignment_results)\n"
      ],
      "metadata": {
        "colab": {
          "base_uri": "https://localhost:8080/"
        },
        "id": "frlLkYwOYUlb",
        "outputId": "4f93ebf8-1fdb-48c6-fcb5-58aa521d1364"
      },
      "execution_count": null,
      "outputs": [
        {
          "output_type": "stream",
          "name": "stdout",
          "text": [
            "CLUSTAL O(1.2.4) multiple sequence alignment\n",
            "\n",
            "\n",
            "Tau_WildType               MAEPRQEFEVMEDHAGTYGLGDRKDQGGYTMHQDQEGDTDAGLKESPLQTPTEDGSEEPG\n",
            "Tau_AlzheimersVariant      MAEPRQEFEVMEDHAGTYGLGDRKDQGGYTMHQDQEGDTDAGLKESPLQTPTEDGSEEPG\n",
            "                           ************************************************************\n",
            "\n",
            "Tau_WildType               SETSDAKSTPTAEDVTAPLVDEGAPGKQAAAQPHTEIPEGTTAEEAGIGDTPSLEDEAAG\n",
            "Tau_AlzheimersVariant      SETSDAKSTPTAEDVTAPLVDEGAPGKQAAAQPHTEIPEGTTAEEAGIGDTPSLEDEAAG\n",
            "                           ************************************************************\n",
            "\n",
            "Tau_WildType               HVTQARMVSKSKDGTGSDDKKAKGADGKTKIATPRGAAPPGQKGQANATRIPAKTPPAPK\n",
            "Tau_AlzheimersVariant      HVTQARMVSKSKDGTGSDDKKAKGADGKTKIATPRGAAPPGQKGQANATRIPAKTPPAPK\n",
            "                           ************************************************************\n",
            "\n",
            "Tau_WildType               TPPSSGEPPKSGDRSGYSSPGSPGTPGSRSRTPSLPTPPTREPKKVAVVRTPPKSPSSAK\n",
            "Tau_AlzheimersVariant      TPPSSGEPPKSGDRSGYSSPGSPGTPGSRSRTPSLPTPPTREPKKVAVVRTPPKSPSSAK\n",
            "                           ************************************************************\n",
            "\n",
            "Tau_WildType               SRLQTAPVPMPDLKNVKSKIGSTENLKHQPGGGKVQIINKKLDLSNVQSKCGSKDNIKHV\n",
            "Tau_AlzheimersVariant      SRLQTAPVPMPDLKNVKSKIGSTENLKHQPGGGKVQIIKKKLDLSNVQSKCGSKDNIKHV\n",
            "                           **************************************:*********************\n",
            "\n",
            "Tau_WildType               PGGGSVQIVYKPVDLSKVTSKCGSLGNIHHKPGGGQVEVKSEKLDFKDRVQSKIGSLDNI\n",
            "Tau_AlzheimersVariant      LGGGSVQIVYKPVDLSKVTSKCGSLGNIHHKPGGGQVEVKSEKLDFKDRVQSKIGSLDNI\n",
            "                            ***********************************************************\n",
            "\n",
            "Tau_WildType               THVPGGGNKKIETHKLTFRENAKAKTDHGAEIVYKSPVVSGDTSPRHLSNVSSTGSIDMV\n",
            "Tau_AlzheimersVariant      THVPGGGNKKIETHKLTFRENAKAKTDHGAEIVYKSPVVSGDTSPWHLSNVSSTGSIDMV\n",
            "                           ********************************************* **************\n",
            "\n",
            "Tau_WildType               DSPQLATLADEVSASLAKQGL\n",
            "Tau_AlzheimersVariant      DSPQLATLADEVSASLAKQGL\n",
            "                           *********************\n",
            "\n"
          ]
        }
      ]
    }
  ]
}